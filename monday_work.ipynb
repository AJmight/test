{
 "cells": [
  {
   "cell_type": "code",
   "execution_count": null,
   "id": "64dc8b29",
   "metadata": {},
   "outputs": [],
   "source": [
    "# forex prediction \n",
    "# 1.load dataset\n",
    "# 2.inspect data->empty data, wrong format ,missing values, duplicates, etc.\n",
    "# 3.analyze data\n",
    "# 4.visualize data\n",
    "# 5.make predictions as models\n",
    "# 6.identify patterns and relationships in the data\n",
    "# 7.save cleaned and processed data"
   ]
  },
  {
   "cell_type": "code",
   "execution_count": 15,
   "id": "0f3fdf81",
   "metadata": {},
   "outputs": [],
   "source": [
    "import pandas as pd\n",
    "import numpy as np\n",
    "import matplotlib.pyplot as plt\n",
    "import seaborn as sns\n",
    "from datetime import datetime"
   ]
  },
  {
   "cell_type": "code",
   "execution_count": 16,
   "id": "c16e5db3",
   "metadata": {},
   "outputs": [
    {
     "data": {
      "text/html": [
       "<div>\n",
       "<style scoped>\n",
       "    .dataframe tbody tr th:only-of-type {\n",
       "        vertical-align: middle;\n",
       "    }\n",
       "\n",
       "    .dataframe tbody tr th {\n",
       "        vertical-align: top;\n",
       "    }\n",
       "\n",
       "    .dataframe thead th {\n",
       "        text-align: right;\n",
       "    }\n",
       "</style>\n",
       "<table border=\"1\" class=\"dataframe\">\n",
       "  <thead>\n",
       "    <tr style=\"text-align: right;\">\n",
       "      <th></th>\n",
       "      <th>Date</th>\n",
       "      <th>Open</th>\n",
       "      <th>High</th>\n",
       "      <th>Low</th>\n",
       "      <th>Close</th>\n",
       "      <th>Volume</th>\n",
       "      <th>Predicted_Close</th>\n",
       "      <th>Currency_Pair</th>\n",
       "      <th>Signal</th>\n",
       "      <th>Confidence</th>\n",
       "    </tr>\n",
       "  </thead>\n",
       "  <tbody>\n",
       "    <tr>\n",
       "      <th>0</th>\n",
       "      <td>2024-01-01</td>\n",
       "      <td>1.18727</td>\n",
       "      <td>1.92461</td>\n",
       "      <td>0.85312</td>\n",
       "      <td>1.18154</td>\n",
       "      <td>2201</td>\n",
       "      <td>1.22984</td>\n",
       "      <td>EUR/USD</td>\n",
       "      <td>Hold</td>\n",
       "      <td>0.90</td>\n",
       "    </tr>\n",
       "    <tr>\n",
       "      <th>1</th>\n",
       "      <td>2024-01-02</td>\n",
       "      <td>1.47536</td>\n",
       "      <td>1.82881</td>\n",
       "      <td>0.54067</td>\n",
       "      <td>1.32296</td>\n",
       "      <td>error</td>\n",
       "      <td>1.03797</td>\n",
       "      <td>EUR/USD</td>\n",
       "      <td>Sell</td>\n",
       "      <td>NaN</td>\n",
       "    </tr>\n",
       "    <tr>\n",
       "      <th>2</th>\n",
       "      <td>2024-01-03</td>\n",
       "      <td>1.36600</td>\n",
       "      <td>1.78415</td>\n",
       "      <td>0.54242</td>\n",
       "      <td>1.28539</td>\n",
       "      <td>4420</td>\n",
       "      <td>1.03888</td>\n",
       "      <td>EUR/USD</td>\n",
       "      <td>Sell</td>\n",
       "      <td>NaN</td>\n",
       "    </tr>\n",
       "    <tr>\n",
       "      <th>3</th>\n",
       "      <td>2024-01-04</td>\n",
       "      <td>1.29933</td>\n",
       "      <td>1.54684</td>\n",
       "      <td>0.99332</td>\n",
       "      <td>1.17805</td>\n",
       "      <td>4079</td>\n",
       "      <td>1.00117</td>\n",
       "      <td>EUR/USD</td>\n",
       "      <td>Sell</td>\n",
       "      <td>0.64</td>\n",
       "    </tr>\n",
       "    <tr>\n",
       "      <th>4</th>\n",
       "      <td>2024-01-05</td>\n",
       "      <td>1.07801</td>\n",
       "      <td>1.68386</td>\n",
       "      <td>0.68714</td>\n",
       "      <td>NaN</td>\n",
       "      <td>1832</td>\n",
       "      <td>1.48385</td>\n",
       "      <td>EUR/USD</td>\n",
       "      <td>Sell</td>\n",
       "      <td>0.68</td>\n",
       "    </tr>\n",
       "    <tr>\n",
       "      <th>5</th>\n",
       "      <td>2024-01-06</td>\n",
       "      <td>1.07800</td>\n",
       "      <td>1.63260</td>\n",
       "      <td>0.68532</td>\n",
       "      <td>1.30289</td>\n",
       "      <td>error</td>\n",
       "      <td>1.00263</td>\n",
       "      <td>EUR/USD</td>\n",
       "      <td>Buy</td>\n",
       "      <td>0.69</td>\n",
       "    </tr>\n",
       "    <tr>\n",
       "      <th>6</th>\n",
       "      <td>2024-01-07</td>\n",
       "      <td>1.02904</td>\n",
       "      <td>1.62199</td>\n",
       "      <td>0.90640</td>\n",
       "      <td>NaN</td>\n",
       "      <td>3806</td>\n",
       "      <td>1.05155</td>\n",
       "      <td>EUR/USD</td>\n",
       "      <td>Buy</td>\n",
       "      <td>0.73</td>\n",
       "    </tr>\n",
       "    <tr>\n",
       "      <th>7</th>\n",
       "      <td>2024-01-08</td>\n",
       "      <td>1.43309</td>\n",
       "      <td>1.98651</td>\n",
       "      <td>0.97362</td>\n",
       "      <td>1.05089</td>\n",
       "      <td>NaN</td>\n",
       "      <td>1.15730</td>\n",
       "      <td>EUR/USD</td>\n",
       "      <td>Hold</td>\n",
       "      <td>0.92</td>\n",
       "    </tr>\n",
       "    <tr>\n",
       "      <th>8</th>\n",
       "      <td>2024-01-09</td>\n",
       "      <td>1.30056</td>\n",
       "      <td>1.69655</td>\n",
       "      <td>0.99300</td>\n",
       "      <td>1.07643</td>\n",
       "      <td>3007</td>\n",
       "      <td>1.40372</td>\n",
       "      <td>EUR/USD</td>\n",
       "      <td>Buy</td>\n",
       "      <td>0.62</td>\n",
       "    </tr>\n",
       "    <tr>\n",
       "      <th>9</th>\n",
       "      <td>2024-01-10</td>\n",
       "      <td>1.35404</td>\n",
       "      <td>1.94602</td>\n",
       "      <td>0.87669</td>\n",
       "      <td>1.12298</td>\n",
       "      <td>3006</td>\n",
       "      <td>1.48105</td>\n",
       "      <td>EUR/USD</td>\n",
       "      <td>Buy</td>\n",
       "      <td>0.89</td>\n",
       "    </tr>\n",
       "  </tbody>\n",
       "</table>\n",
       "</div>"
      ],
      "text/plain": [
       "         Date     Open     High      Low    Close Volume  Predicted_Close  \\\n",
       "0  2024-01-01  1.18727  1.92461  0.85312  1.18154   2201          1.22984   \n",
       "1  2024-01-02  1.47536  1.82881  0.54067  1.32296  error          1.03797   \n",
       "2  2024-01-03  1.36600  1.78415  0.54242  1.28539   4420          1.03888   \n",
       "3  2024-01-04  1.29933  1.54684  0.99332  1.17805   4079          1.00117   \n",
       "4  2024-01-05  1.07801  1.68386  0.68714      NaN   1832          1.48385   \n",
       "5  2024-01-06  1.07800  1.63260  0.68532  1.30289  error          1.00263   \n",
       "6  2024-01-07  1.02904  1.62199  0.90640      NaN   3806          1.05155   \n",
       "7  2024-01-08  1.43309  1.98651  0.97362  1.05089    NaN          1.15730   \n",
       "8  2024-01-09  1.30056  1.69655  0.99300  1.07643   3007          1.40372   \n",
       "9  2024-01-10  1.35404  1.94602  0.87669  1.12298   3006          1.48105   \n",
       "\n",
       "  Currency_Pair Signal  Confidence  \n",
       "0       EUR/USD   Hold        0.90  \n",
       "1       EUR/USD   Sell         NaN  \n",
       "2       EUR/USD   Sell         NaN  \n",
       "3       EUR/USD   Sell        0.64  \n",
       "4       EUR/USD   Sell        0.68  \n",
       "5       EUR/USD    Buy        0.69  \n",
       "6       EUR/USD    Buy        0.73  \n",
       "7       EUR/USD   Hold        0.92  \n",
       "8       EUR/USD    Buy        0.62  \n",
       "9       EUR/USD    Buy        0.89  "
      ]
     },
     "execution_count": 16,
     "metadata": {},
     "output_type": "execute_result"
    }
   ],
   "source": [
    "df=pd.read_csv('forex_predictions_data.csv')\n",
    "df.shape\n",
    "df.head(10)"
   ]
  },
  {
   "cell_type": "code",
   "execution_count": 4,
   "id": "2da3cc48",
   "metadata": {},
   "outputs": [
    {
     "data": {
      "text/plain": [
       "Date                3\n",
       "Open                5\n",
       "High                9\n",
       "Low                 4\n",
       "Close              17\n",
       "Volume              3\n",
       "Predicted_Close     7\n",
       "Currency_Pair       0\n",
       "Signal              2\n",
       "Confidence         11\n",
       "dtype: int64"
      ]
     },
     "execution_count": 4,
     "metadata": {},
     "output_type": "execute_result"
    }
   ],
   "source": [
    "df.isnull().sum()"
   ]
  },
  {
   "cell_type": "code",
   "execution_count": 17,
   "id": "464afee5",
   "metadata": {},
   "outputs": [],
   "source": [
    "numeric_cols = ['Open', 'High', 'Low', 'Close', 'Volume', 'Predicted_Close', 'Confidence']\n",
    "for col in numeric_cols:\n",
    "    if col in df.columns:\n",
    "        df[col] = pd.to_numeric(df[col], errors='coerce')  # Convert to numeric, coerce errors to NaN\n",
    "        df[col] = df[col].fillna(df[col].median())\n",
    "\n",
    "# For categorical columns, fill with mode\n",
    "categorical_cols = ['Signal']\n",
    "for col in categorical_cols:\n",
    "    if col in df.columns:\n",
    "        df[col] = df[col].fillna(df[col].mode()[0])"
   ]
  },
  {
   "cell_type": "code",
   "execution_count": 19,
   "id": "958d7684",
   "metadata": {},
   "outputs": [],
   "source": [
    "df['Date'] = pd.to_datetime(df['Date'], errors='coerce')\n",
    "\n",
    "# Handle Volume column with 'error' values\n",
    "df['Volume'] = pd.to_numeric(df['Volume'], errors='coerce')\n",
    "df['Volume'] = df['Volume'].fillna(df['Volume'].median())\n",
    "\n",
    "# Clean Confidence column\n",
    "df['Confidence'] = pd.to_numeric(df['Confidence'], errors='coerce')\n",
    "df['Confidence'] = df['Confidence'].fillna(df['Confidence'].median())"
   ]
  },
  {
   "cell_type": "code",
   "execution_count": 20,
   "id": "a08f6b85",
   "metadata": {},
   "outputs": [
    {
     "name": "stdout",
     "output_type": "stream",
     "text": [
      "Number of duplicates: 10\n"
     ]
    }
   ],
   "source": [
    "print(f\"Number of duplicates: {df.duplicated().sum()}\")"
   ]
  },
  {
   "cell_type": "code",
   "execution_count": 18,
   "id": "86ae9e57",
   "metadata": {},
   "outputs": [
    {
     "data": {
      "text/plain": [
       "Date               3\n",
       "Open               0\n",
       "High               0\n",
       "Low                0\n",
       "Close              0\n",
       "Volume             0\n",
       "Predicted_Close    0\n",
       "Currency_Pair      0\n",
       "Signal             0\n",
       "Confidence         0\n",
       "dtype: int64"
      ]
     },
     "execution_count": 18,
     "metadata": {},
     "output_type": "execute_result"
    }
   ],
   "source": [
    "df.isnull().sum()"
   ]
  },
  {
   "cell_type": "code",
   "execution_count": null,
   "id": "77c118d8",
   "metadata": {},
   "outputs": [],
   "source": []
  }
 ],
 "metadata": {
  "kernelspec": {
   "display_name": "Python 3",
   "language": "python",
   "name": "python3"
  },
  "language_info": {
   "codemirror_mode": {
    "name": "ipython",
    "version": 3
   },
   "file_extension": ".py",
   "mimetype": "text/x-python",
   "name": "python",
   "nbconvert_exporter": "python",
   "pygments_lexer": "ipython3",
   "version": "3.13.3"
  }
 },
 "nbformat": 4,
 "nbformat_minor": 5
}
