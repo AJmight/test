{
 "cells": [
  {
   "cell_type": "code",
   "execution_count": 2,
   "id": "94bf28aa",
   "metadata": {},
   "outputs": [],
   "source": [
    "import pandas as pd\n",
    "# import numpy as np\n",
    "# import matplotlib.pyplot as plt"
   ]
  },
  {
   "cell_type": "code",
   "execution_count": 4,
   "id": "a3f0f976",
   "metadata": {},
   "outputs": [
    {
     "data": {
      "text/html": [
       "<div>\n",
       "<style scoped>\n",
       "    .dataframe tbody tr th:only-of-type {\n",
       "        vertical-align: middle;\n",
       "    }\n",
       "\n",
       "    .dataframe tbody tr th {\n",
       "        vertical-align: top;\n",
       "    }\n",
       "\n",
       "    .dataframe thead th {\n",
       "        text-align: right;\n",
       "    }\n",
       "</style>\n",
       "<table border=\"1\" class=\"dataframe\">\n",
       "  <thead>\n",
       "    <tr style=\"text-align: right;\">\n",
       "      <th></th>\n",
       "      <th>Duration</th>\n",
       "      <th>Pulse</th>\n",
       "      <th>Maxpulse</th>\n",
       "      <th>Calories</th>\n",
       "    </tr>\n",
       "  </thead>\n",
       "  <tbody>\n",
       "    <tr>\n",
       "      <th>count</th>\n",
       "      <td>169.000000</td>\n",
       "      <td>169.000000</td>\n",
       "      <td>169.000000</td>\n",
       "      <td>164.000000</td>\n",
       "    </tr>\n",
       "    <tr>\n",
       "      <th>mean</th>\n",
       "      <td>63.846154</td>\n",
       "      <td>107.461538</td>\n",
       "      <td>134.047337</td>\n",
       "      <td>375.790244</td>\n",
       "    </tr>\n",
       "    <tr>\n",
       "      <th>std</th>\n",
       "      <td>42.299949</td>\n",
       "      <td>14.510259</td>\n",
       "      <td>16.450434</td>\n",
       "      <td>266.379919</td>\n",
       "    </tr>\n",
       "    <tr>\n",
       "      <th>min</th>\n",
       "      <td>15.000000</td>\n",
       "      <td>80.000000</td>\n",
       "      <td>100.000000</td>\n",
       "      <td>50.300000</td>\n",
       "    </tr>\n",
       "    <tr>\n",
       "      <th>25%</th>\n",
       "      <td>45.000000</td>\n",
       "      <td>100.000000</td>\n",
       "      <td>124.000000</td>\n",
       "      <td>250.925000</td>\n",
       "    </tr>\n",
       "    <tr>\n",
       "      <th>50%</th>\n",
       "      <td>60.000000</td>\n",
       "      <td>105.000000</td>\n",
       "      <td>131.000000</td>\n",
       "      <td>318.600000</td>\n",
       "    </tr>\n",
       "    <tr>\n",
       "      <th>75%</th>\n",
       "      <td>60.000000</td>\n",
       "      <td>111.000000</td>\n",
       "      <td>141.000000</td>\n",
       "      <td>387.600000</td>\n",
       "    </tr>\n",
       "    <tr>\n",
       "      <th>max</th>\n",
       "      <td>300.000000</td>\n",
       "      <td>159.000000</td>\n",
       "      <td>184.000000</td>\n",
       "      <td>1860.400000</td>\n",
       "    </tr>\n",
       "  </tbody>\n",
       "</table>\n",
       "</div>"
      ],
      "text/plain": [
       "         Duration       Pulse    Maxpulse     Calories\n",
       "count  169.000000  169.000000  169.000000   164.000000\n",
       "mean    63.846154  107.461538  134.047337   375.790244\n",
       "std     42.299949   14.510259   16.450434   266.379919\n",
       "min     15.000000   80.000000  100.000000    50.300000\n",
       "25%     45.000000  100.000000  124.000000   250.925000\n",
       "50%     60.000000  105.000000  131.000000   318.600000\n",
       "75%     60.000000  111.000000  141.000000   387.600000\n",
       "max    300.000000  159.000000  184.000000  1860.400000"
      ]
     },
     "execution_count": 4,
     "metadata": {},
     "output_type": "execute_result"
    }
   ],
   "source": [
    "csv_df = pd.read_csv(r'C:\\Users\\user\\OneDrive\\Desktop\\python\\test\\data.csv')\n",
    "csv_df.head()\n",
    "csv_df.describe()"
   ]
  },
  {
   "cell_type": "code",
   "execution_count": 5,
   "id": "0670bb7e",
   "metadata": {},
   "outputs": [
    {
     "name": "stdout",
     "output_type": "stream",
     "text": [
      "<class 'pandas.core.frame.DataFrame'>\n",
      "RangeIndex: 169 entries, 0 to 168\n",
      "Data columns (total 4 columns):\n",
      " #   Column    Non-Null Count  Dtype  \n",
      "---  ------    --------------  -----  \n",
      " 0   Duration  169 non-null    int64  \n",
      " 1   Pulse     169 non-null    int64  \n",
      " 2   Maxpulse  169 non-null    int64  \n",
      " 3   Calories  164 non-null    float64\n",
      "dtypes: float64(1), int64(3)\n",
      "memory usage: 5.4 KB\n"
     ]
    }
   ],
   "source": [
    "csv_df.info()"
   ]
  },
  {
   "cell_type": "code",
   "execution_count": null,
   "id": "8a2f1a82",
   "metadata": {},
   "outputs": [
    {
     "name": "stdout",
     "output_type": "stream",
     "text": [
      "<bound method DataFrame.to_string of                  Date  Pulse  Maxpulse  Calories\n",
      "Duration                                        \n",
      "60        2023/10/01'  110.0     130.0     409.1\n",
      "60        2023/10/02'  117.0     145.0     479.0\n",
      "60        2023/10/03'  103.0     135.0     340.3\n",
      "45        2023/10/04'  109.0     175.0     282.4\n",
      "45        2023/10/05'  117.0     150.0     405.1\n",
      "60        2023/10/06'  103.0     125.0     300.0\n",
      "60        2023/10/07'  110.0     135.0     374.0\n",
      "60        2023/10/09'  112.0     126.0     193.8\n",
      "30        2023/10/10'  102.0     147.0     234.8\n",
      "60        2023/10/11'  100.0     129.0     375.3\n",
      "60        2023/10/12'  109.0     131.0     345.6\n",
      "60        2023/10/13'  103.0     136.0     239.2\n",
      "60        2023/10/15'  120.0     100.0     240.8\n",
      "60        2023/10/17'  127.0     102.0     380.2\n",
      "45           20231018  142.0     103.0     241.4\n",
      "60        2023/10/20'  162.0     105.0     300.9\n",
      "60        2023/10/21'  100.0     106.0     280.0\n",
      "60        2023/10/25'  132.0     110.0     236.9\n",
      "60        2023/10/26'  135.0     118.0     278.8\n",
      "60        2023/10/27'  137.0     119.0     212.9\n",
      "60        2023/10/28'  138.0     121.0     345.9\n",
      "60        2023/10/29'  139.0     122.0     345.2>\n"
     ]
    }
   ],
   "source": [
    "df=pd.read_csv(r'C:\\Users\\user\\OneDrive\\Desktop\\python\\test\\Mine.csv', index_col=0)\n",
    "# any drops rows with any NaN values\n",
    "new_df = df.dropna(axis=0, how='any')\n",
    "print(new_df.to_string)"
   ]
  },
  {
   "cell_type": "code",
   "execution_count": 7,
   "id": "16e5ef6e",
   "metadata": {},
   "outputs": [],
   "source": [
    "# df=pd.read_csv(r'C:\\Users\\user\\OneDrive\\Desktop\\python\\test\\data.csv', index_col=0)\n",
    "# df.dropna(inplace = True)\n",
    "# # all drops rows with all NaN values,entire row must be NaN to be dropped\n",
    "# new_df = df.dropna(axis=0, how='all')\n",
    "# print(new_df)"
   ]
  },
  {
   "cell_type": "code",
   "execution_count": 11,
   "id": "884c3329",
   "metadata": {},
   "outputs": [
    {
     "name": "stdout",
     "output_type": "stream",
     "text": [
      "               Date  Pulse  Maxpulse  Calories\n",
      "Duration                                      \n",
      "60       2023-10-01  110.0     130.0     409.1\n",
      "60       2023-10-02  117.0     145.0     479.0\n",
      "60       2023-10-03  103.0     135.0     340.3\n",
      "45       2023-10-04  109.0     175.0     282.4\n",
      "45       2023-10-05  117.0     150.0     405.1\n",
      "60       2023-10-06  103.0     125.0     300.0\n",
      "60       2023-10-07  110.0     135.0     374.0\n",
      "400      2023-10-08  114.0     133.0       NaN\n",
      "60       2023-10-09  112.0     126.0     193.8\n",
      "30       2023-10-10  102.0     147.0     234.8\n",
      "60       2023-10-11  100.0     129.0     375.3\n",
      "60       2023-10-12  109.0     131.0     345.6\n",
      "60       2023-10-13  103.0     136.0     239.2\n",
      "60       2023-10-15  120.0       NaN     240.8\n",
      "60       2023-10-15  120.0     100.0     240.8\n",
      "60       2023-10-16    NaN     101.0     243.8\n",
      "60       2023-10-17  127.0     102.0     380.2\n",
      "45       2023-10-18  142.0     103.0     241.4\n",
      "60       2023-10-19  151.0     104.0       NaN\n",
      "60       2023-10-20  162.0     105.0     300.9\n",
      "60       2023-10-21  100.0     106.0     280.0\n",
      "60       2023-10-22  103.0     107.0       NaN\n",
      "60              NaT  130.0     108.0     230.8\n",
      "60       2023-10-24  134.0       NaN     239.7\n",
      "60       2023-10-25  132.0     110.0     236.9\n",
      "60       2023-10-26  135.0     118.0     278.8\n",
      "60       2023-10-27  137.0     119.0     212.9\n",
      "60       2023-10-28  138.0     121.0     345.9\n",
      "60       2023-10-29  139.0     122.0     345.2\n",
      "60              NaT   92.0     125.0     380.5\n",
      "60       2023-10-31   94.0     126.0       NaN\n"
     ]
    }
   ],
   "source": [
    "df=pd.read_csv(r'C:\\Users\\user\\OneDrive\\Desktop\\python\\test\\Mine.csv', index_col=0)\n",
    "df['Date'] = pd.to_datetime(df['Date'], format='mixed')\n",
    "# print(df['Date'].head())\n",
    "print(df.to_string())\n"
   ]
  },
  {
   "cell_type": "code",
   "execution_count": 12,
   "id": "c9741e12",
   "metadata": {},
   "outputs": [
    {
     "name": "stdout",
     "output_type": "stream",
     "text": [
      "               Date  Pulse  Maxpulse  Calories\n",
      "Duration                                      \n",
      "60       2023-10-01  110.0     130.0     409.1\n",
      "60       2023-10-02  117.0     145.0     479.0\n",
      "60       2023-10-03  103.0     135.0     340.3\n",
      "45       2023-10-04  109.0     175.0     282.4\n",
      "45       2023-10-05  117.0     150.0     405.1\n",
      "60       2023-10-06  103.0     125.0     300.0\n",
      "60       2023-10-07  110.0     135.0     374.0\n",
      "400      2023-10-08  114.0     133.0     282.4\n",
      "60       2023-10-09  112.0     126.0     193.8\n",
      "30       2023-10-10  102.0     147.0     234.8\n",
      "60       2023-10-11  100.0     129.0     375.3\n",
      "60       2023-10-12  109.0     131.0     345.6\n",
      "60       2023-10-13  103.0     136.0     239.2\n",
      "60       2023-10-15  120.0       NaN     240.8\n",
      "60       2023-10-15  120.0     100.0     240.8\n",
      "60       2023-10-16    NaN     101.0     243.8\n",
      "60       2023-10-17  127.0     102.0     380.2\n",
      "45       2023-10-18  142.0     103.0     241.4\n",
      "60       2023-10-19  151.0     104.0     282.4\n",
      "60       2023-10-20  162.0     105.0     300.9\n",
      "60       2023-10-21  100.0     106.0     280.0\n",
      "60       2023-10-22  103.0     107.0     282.4\n",
      "60              NaT  130.0     108.0     230.8\n",
      "60       2023-10-24  134.0       NaN     239.7\n",
      "60       2023-10-25  132.0     110.0     236.9\n",
      "60       2023-10-26  135.0     118.0     278.8\n",
      "60       2023-10-27  137.0     119.0     212.9\n",
      "60       2023-10-28  138.0     121.0     345.9\n",
      "60       2023-10-29  139.0     122.0     345.2\n",
      "60              NaT   92.0     125.0     380.5\n",
      "60       2023-10-31   94.0     126.0     282.4\n"
     ]
    }
   ],
   "source": [
    "x = df[\"Calories\"].median()\n",
    "\n",
    "df.fillna({\"Calories\": x}, inplace=True)\n",
    "print(df.to_string())"
   ]
  }
 ],
 "metadata": {
  "kernelspec": {
   "display_name": "Python 3",
   "language": "python",
   "name": "python3"
  },
  "language_info": {
   "codemirror_mode": {
    "name": "ipython",
    "version": 3
   },
   "file_extension": ".py",
   "mimetype": "text/x-python",
   "name": "python",
   "nbconvert_exporter": "python",
   "pygments_lexer": "ipython3",
   "version": "3.13.3"
  }
 },
 "nbformat": 4,
 "nbformat_minor": 5
}
